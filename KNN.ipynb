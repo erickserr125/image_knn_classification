{
 "cells": [
  {
   "cell_type": "code",
   "execution_count": 1,
   "id": "f14427d6",
   "metadata": {},
   "outputs": [],
   "source": [
    "#All math operations\n",
    "import numpy as np\n",
    "#Extract CSV files\n",
    "import pandas as pd\n",
    "#Find the most common label (majority rules) for KNN\n",
    "from scipy.stats import mode"
   ]
  },
  {
   "cell_type": "code",
   "execution_count": 3,
   "id": "bedb5a1a",
   "metadata": {},
   "outputs": [],
   "source": [
    "\"\"\"\n",
    "Step 1) Read training CSV data and separate label:\n",
    "\"\"\"\n",
    "a = pd.read_csv('MNIST_training.csv')\n",
    "#Extract label from training data to y_a\n",
    "y_a = a[\"label\"]\n",
    "#print(y_a)\n",
    "#print(a)\n",
    "a = a.to_numpy()\n",
    "a = a[:,1:]\n",
    "y_a = y_a.to_numpy()\n",
    "#print(y_a)\n",
    "#print(a)\n",
    "#print(a.shape)\n",
    "\"\"\"\n",
    "Step 2) Read test CSV data and separate expected label:\n",
    "\"\"\"\n",
    "#Remove label from b and add to y_actual\n",
    "b = pd.read_csv('MNIST_test.csv')\n",
    "y_actual = b[\"label\"]\n",
    "b= b.to_numpy()\n",
    "y_actual = y_actual.to_numpy()\n",
    "y_actual = y_actual.reshape(y_actual.shape[0],1)\n",
    "b = b[:,1:]\n",
    "#print(b.shape)"
   ]
  },
  {
   "cell_type": "code",
   "execution_count": 180,
   "id": "63bfeac4",
   "metadata": {},
   "outputs": [],
   "source": [
    "\"\"\"\n",
    "Step 3) Determine a range of k-values to test with\n",
    "\"\"\"\n",
    "#Determine the best k-value by doing 1-10\n",
    "k = np.arange(1,10)\n",
    "#FINAL PREDICTIONS\n",
    "y_predict = np.empty((b.shape[0],k.shape[0]))\n",
    "\n",
    "for k_th in k:\n",
    "    for test_example in range(b.shape[0]):\n",
    "        e = np.empty((0,0))\n",
    "        \"\"\"\n",
    "        Step 4) Calculate Euclidean distance\n",
    "        \"\"\"\n",
    "        e = np.append(e, np.sum((a - b[test_example,:])**2, 1))\n",
    "        \n",
    "        \"\"\"\n",
    "        Step 5) Calculate k-nearest neighbors and add prediction\n",
    "        to the list of predictions\n",
    "        \"\"\"\n",
    "        #Find k-th closest neighbors' and their respective labels\n",
    "        index = np.argpartition(e,k_th)\n",
    "        closest = y_a[index[:k_th]]\n",
    "        \n",
    "        #Add the most common label among the k-th closest neighbors\n",
    "        y_predict[test_example,k_th-1] = mode(closest)[0]"
   ]
  },
  {
   "cell_type": "code",
   "execution_count": 181,
   "id": "6bbb8bb5",
   "metadata": {},
   "outputs": [
    {
     "name": "stdout",
     "output_type": "stream",
     "text": [
      "K =  1  yields an accuracy of:  84.0 %\n",
      "K =  2  yields an accuracy of:  80.0 %\n",
      "K =  3  yields an accuracy of:  88.0 %\n",
      "K =  4  yields an accuracy of:  86.0 %\n",
      "K =  5  yields an accuracy of:  86.0 %\n",
      "K =  6  yields an accuracy of:  86.0 %\n",
      "K =  7  yields an accuracy of:  90.0 %\n",
      "K =  8  yields an accuracy of:  88.0 %\n",
      "K =  9  yields an accuracy of:  90.0 %\n"
     ]
    }
   ],
   "source": [
    "\"\"\"\n",
    "Step 6)Measure the accuracy with test labels\n",
    "\"\"\"\n",
    "diff = y_actual - y_predict\n",
    "accuracy = np.empty((0,0))\n",
    "\n",
    "for k_th in range(diff.shape[1]):\n",
    "    diff_row = diff[:,k_th]\n",
    "    #If the prediction was accurate, the difference should show zero\n",
    "    accuracy = np.append(accuracy, diff_row[diff_row == 0].shape[0]/y_actual.shape[0])\n",
    "    print(\"K = \", k_th+1, \" yields an accuracy of: \", (accuracy*100)[k_th], \"%\")"
   ]
  },
  {
   "cell_type": "code",
   "execution_count": null,
   "id": "5bef127b",
   "metadata": {},
   "outputs": [],
   "source": []
  }
 ],
 "metadata": {
  "kernelspec": {
   "display_name": "Python 3",
   "language": "python",
   "name": "python3"
  },
  "language_info": {
   "codemirror_mode": {
    "name": "ipython",
    "version": 3
   },
   "file_extension": ".py",
   "mimetype": "text/x-python",
   "name": "python",
   "nbconvert_exporter": "python",
   "pygments_lexer": "ipython3",
   "version": "3.8.10"
  }
 },
 "nbformat": 4,
 "nbformat_minor": 5
}
